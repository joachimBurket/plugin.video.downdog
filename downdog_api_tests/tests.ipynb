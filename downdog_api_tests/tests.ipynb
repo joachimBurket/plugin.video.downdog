{
 "cells": [
  {
   "cell_type": "code",
   "execution_count": 1,
   "metadata": {},
   "outputs": [],
   "source": [
    "import requests\n",
    "import pickle\n",
    "from secrets import *"
   ]
  },
  {
   "cell_type": "markdown",
   "metadata": {},
   "source": [
    "## Data"
   ]
  },
  {
   "cell_type": "code",
   "execution_count": 2,
   "metadata": {},
   "outputs": [],
   "source": [
    "base_url = \"https://www.downdogapp.com\"\n",
    "session = requests.Session()"
   ]
  },
  {
   "cell_type": "markdown",
   "metadata": {},
   "source": [
    "## Getting Manifest\n",
    "\n",
    "Returns the API metadata and the \"cred\" cookie needed for the rest of the calls\n",
    "\n",
    "Useful response fields:\n",
    "* `defaultAudioBalance`\n",
    "* `defaultShowOverlay`\n",
    "* `defaultShowCountdown`\n",
    "* `defaultDisplayEnglishNames`\n",
    "* `videoQUalities`: [{\"label\": \"Auto\", \"id\": 5}, {\"label\": \"HD\", \"id\": 4}, ..., {\"label\": \"Low\", \"id\": 2}]\n",
    "* `defaultVideoQualityId`\n",
    "* `settingsRoots`: List of the available settings:\n",
    "  * [0]: \"id\": 16, \"selectorType\": \"PLAYLIST_TYPE\", \"options\": [ {\"label\": \"Alt Beats\", ...}, {\"id\": 2, \"label\": \"Acoustic\", ...} ]   (**Attention** \"Alt Beats\" has no id!)\n",
    "  * [1]: \"id\": 15, \"selectorType\": \"SAVASANA_LENGTH\", \"defaultId\": 3, \"options\": [ {\"label\": \"None\"}, {\"id\": 1, \"label\": \"1 Minute\"}, ... {\"id\": 15, \"label\": \"15 Minutes\"} ] (**Attention** \"None\" has no id!)\n",
    "  * [2]: \"id\": 8, \"selectorType\": \"LENGTH\", \"defaultId\": 15, \"options\": [ {\"id\": 1, \"label\": \"1\",}, ..., {\"id\": 90, \"label\": \"90\"} ]\n",
    "  * [3]: \"affectsLengthOptions\": true, \"options\": [ ] -> Options affecting the session length. (**Attention** No all the voice actors are available for all the practices)\n",
    "    * [0]: \"label\": \"Full Practice\", \"children\": [ ... ] (**Attention** no id)\n",
    "    * [1]: \"id\": 36, \"label\": \"Cardio Flow\", \"children\": [\n",
    "        * \"id\": 6, \"selectorType\": \"VOICE_ACTOR\", \"options\": [\n",
    "            * \"id\": 113, \"label\": \"Selama\", \"children\": [\n",
    "                * \"id\": 18, \"selectorType\": \"VERBOSITY\", \"defaultId\": 1, \"options\": [ {\"id\": 1, \"label\": \"Default\",}, ... ]\n",
    "                * \"id\": 1, \"selectorType\": \"FOCUS_AREA\", \"defaultId\": 0, \"options\": [ {\"id\": 13, \"label\": \"Back Strength\",}, ... ]\n",
    "                * \"id\": 2, \"selectorType\": \"LEVEL\", \"defaultId\": 0, \"options\": [ \n",
    "                    * \"id\": 1, \"label\": \"Beginner 2\", \"children\": [\n",
    "                        * \"id\": 3, \"selectorType\": \"PACE\", \"defaultId\": 4, \"options\": [ {\"id\": 2, \"label\": \"Slowest\",}, ... ]\n",
    "                    * ...\n",
    "    * [2]: \"id\": 101, \"label\": \"Flexibility Flow\", \"children\": [ ... ]\n",
    "    * [3]: \"id\": 3, \"label\": \"Slow Flow\",\n",
    "    * [4]: \"id\": 8, \"label\": \"Gentle\",\n",
    "    * [5]: \"id\": 1, \"label\": \"Restorative\",\n",
    "    * [6]: \"id\": 2, \"label\": \"Quick Flow\",\n",
    "    * [7]: \"id\": 5, \"label\": \"No Warmup\",\n",
    "    * [8]: \"id\": 9, \"label\": \"Yin\",\n",
    "    * [9]: \"id\": 7, \"label\": \"Chair Yoga\",\n",
    "    * [10]: \"id\": 11, \"label\": \"Ashtanga\",\n",
    "    * [11]: \"id\": 6, \"label\": \"Sun Salutations\",\n",
    "    * [12]: \"id\": 20, \"label\": \"Yoga Nidra\",\n",
    "    * [13]: \"id\": 27, \"label\": \"Hot 26\",\n",
    "\n"
   ]
  },
  {
   "cell_type": "code",
   "execution_count": 3,
   "metadata": {},
   "outputs": [
    {
     "name": "stdout",
     "output_type": "stream",
     "text": [
      "200\n",
      "<RequestsCookieJar[<Cookie cred=AUDUG98NOXM-AGNBW9SFD7E-9jkm57c8r5io70u85059n64rio for www.downdogapp.com/>]>\n"
     ]
    }
   ],
   "source": [
    "res = session.get(f\"{base_url}/manifest\")\n",
    "print(res.status_code)\n",
    "print(res.cookies)\n",
    "manifest = res.json()"
   ]
  },
  {
   "cell_type": "code",
   "execution_count": 4,
   "metadata": {},
   "outputs": [],
   "source": [
    "settings = manifest[\"settingRoots\"]\n",
    "playlist_type = settings[0]\n",
    "savasana_length = settings[1]\n",
    "length = settings[2]\n",
    "options_affect_length = settings[3]"
   ]
  },
  {
   "cell_type": "code",
   "execution_count": 16,
   "metadata": {},
   "outputs": [
    {
     "data": {
      "text/plain": [
       "{'id': 3,\n",
       " 'label': 'Advanced',\n",
       " 'helpText': 'Give me the hardest poses you have!',\n",
       " 'showDuringOnboarding': True,\n",
       " 'children': [{'id': 3,\n",
       "   'selectorType': 'PACE',\n",
       "   'affectsLengthOptions': True,\n",
       "   'defaultId': 4,\n",
       "   'options': [{'id': 2,\n",
       "     'label': 'Slowest',\n",
       "     'requiresPro': True,\n",
       "     'showDuringOnboarding': True},\n",
       "    {'label': 'Slow', 'showDuringOnboarding': True},\n",
       "    {'id': 4, 'label': 'Normal', 'showDuringOnboarding': True},\n",
       "    {'id': 1, 'label': 'Fast', 'showDuringOnboarding': True},\n",
       "    {'id': 3,\n",
       "     'label': 'Fastest',\n",
       "     'requiresPro': True,\n",
       "     'showDuringOnboarding': True}]}]}"
      ]
     },
     "execution_count": 16,
     "metadata": {},
     "output_type": "execute_result"
    }
   ],
   "source": [
    "options_affect_length[\"options\"][0][\"children\"][0][\"options\"][0][\"children\"][2][\"options\"][4]"
   ]
  },
  {
   "cell_type": "markdown",
   "metadata": {},
   "source": [
    "## Login"
   ]
  },
  {
   "cell_type": "code",
   "execution_count": 22,
   "metadata": {},
   "outputs": [
    {
     "name": "stdout",
     "output_type": "stream",
     "text": [
      "200\n",
      "b'{\"cred\":\"A1M2JRLK6DI-AAF5SICAF38-crh4k3cn3dlov5hib53l91ui2c\"}'\n"
     ]
    }
   ],
   "source": [
    "data = {\n",
    "    \"email\": username,\n",
    "    \"password\": password,\n",
    "}\n",
    "\n",
    "res = session.post(f\"{base_url}/json/login\", data=data)\n",
    "print(res.status_code)\n",
    "print(res.content)\n"
   ]
  },
  {
   "cell_type": "code",
   "execution_count": 23,
   "metadata": {},
   "outputs": [
    {
     "name": "stdout",
     "output_type": "stream",
     "text": [
      "Cred cookie value: A1M2JRLK6DI-AAF5SICAF38-crh4k3cn3dlov5hib53l91ui2c ; expiration: 1650401708\n"
     ]
    },
    {
     "data": {
      "text/plain": [
       "'20220419T205508UTC'"
      ]
     },
     "execution_count": 23,
     "metadata": {},
     "output_type": "execute_result"
    }
   ],
   "source": [
    "from datetime import datetime, timezone\n",
    "\n",
    "expires = None\n",
    "dumped_cookie = None\n",
    "for cookie in res.cookies:\n",
    "    if cookie.name == 'cred':\n",
    "        expires = cookie.expires\n",
    "        cred = cookie.value\n",
    "        dumped_cookie = pickle.dumps(cookie)\n",
    "print(f\"Cred cookie value: {cred} ; expiration: {expires}\")\n",
    "\n",
    "dt = datetime.fromtimestamp(expires, timezone.utc)\n",
    "datetime.strftime(dt, \"%Y%m%dT%H%M%S%Z\")"
   ]
  },
  {
   "cell_type": "markdown",
   "metadata": {},
   "source": [
    "## Generate Session\n",
    "\n",
    "Takes a `settings` parameter with the following params:\n",
    "* \"0\": Practice type\n",
    "* \"1\": FOCUS_AREA\n",
    "* \"2\": LEVEL\n",
    "* \"3\": PACE\n",
    "* \"6\": VOICE_ACTOR\n",
    "* \"8\": LENGTH\n",
    "* \"15\": SAVASANA_LENGTH\n",
    "* \"16\": PLAYLIST_TYPE\n",
    "* \"18\": VERBOSITY\n"
   ]
  },
  {
   "cell_type": "code",
   "execution_count": 66,
   "metadata": {},
   "outputs": [
    {
     "name": "stdout",
     "output_type": "stream",
     "text": [
      "200\n"
     ]
    }
   ],
   "source": [
    "data = {\"settings\": '{\"16\":0,\"17\":5,\"15\":3,\"8\":15,\"18\":1,\"1\":0,\"3\":0,\"2\":0,\"6\":8,\"0\":0}'}\n",
    "\n",
    "res = session.post(f\"{base_url}/json/generate\", data=data)\n",
    "print(res.status_code)\n",
    "data = res.json()"
   ]
  },
  {
   "cell_type": "code",
   "execution_count": 72,
   "metadata": {},
   "outputs": [
    {
     "name": "stdout",
     "output_type": "stream",
     "text": [
      "SequenceId: AQHY2AS10FV\n",
      "PlaylistId: AU5XR3K4CMZ\n",
      "{'name': \"Child's Pose\", 'sanskritName': 'Balasana', 'imageUrlSuffix': 'B4crd5ot_1_0_7/180.jpg'}\n"
     ]
    }
   ],
   "source": [
    "print(f'SequenceId: {data[\"sequence\"][\"sequenceId\"]}')\n",
    "print(f'PlaylistId: {data[\"playlist\"][\"playlistId\"]}')\n",
    "print(data[\"sequence\"][\"poseListItems\"][0])"
   ]
  },
  {
   "cell_type": "markdown",
   "metadata": {},
   "source": [
    "## Get playback URL\n",
    "\n",
    "Takes the following video parameters:\n",
    "* sequenceId\n",
    "* PlaylistId\n",
    "* videoOffsetTime: Where to start in the video (if params are changed during the video is played)\n",
    "* audioBalance: Balance between voice and music (full music is 0, full voice is 1)\n",
    "* includeCountdown\n",
    "* "
   ]
  },
  {
   "cell_type": "code",
   "execution_count": 16,
   "metadata": {},
   "outputs": [
    {
     "name": "stdout",
     "output_type": "stream",
     "text": [
      "200\n",
      "b'{\"url\":\"https://stitched.downdogapp.com/5/74/A3SR0137ELD_ib7eNWA7/master.m3u8\"}'\n"
     ]
    }
   ],
   "source": [
    "data = {\n",
    "\t\"sequenceId\": \"A3SR0137ELD\",\n",
    "\t\"playlistId\": \"A229CCCKF2L\",\n",
    "\t\"videoOffsetTime\": \"0\",\n",
    "\t\"audioBalance\": \"0.5\",\n",
    "\t\"includeCountdown\": \"true\",\n",
    "\t\"includeOverlay\": \"false\",\n",
    "\t\"includePoseNames\": \"true\",\n",
    "\t\"includeSanskritNames\": \"false\",\n",
    "\t\"includeClosedCaptions\": \"false\",\n",
    "\t\"mirrorVideo\": \"false\",\n",
    "\t\"videoQualityId\": \"5\",\n",
    "\t\"cellularConnection\": \"false\",\n",
    "\t\"chromecast\": \"false\",\n",
    "\t\"airplay\": \"false\",\n",
    "}\n",
    "\n",
    "res = session.post(f\"{base_url}/json/playbackUrl\", data=data)\n",
    "print(res.status_code)\n",
    "print(res.content)"
   ]
  },
  {
   "cell_type": "markdown",
   "metadata": {},
   "source": [
    "## Video URL\n",
    "\n",
    "see:\n",
    "* https://en.wikipedia.org/wiki/M3U\n",
    "* https://en.wikipedia.org/wiki/HTTP_Live_Streaming\n",
    "\n",
    "The `master.m3u8` is a playlist having the following format:\n",
    "\n",
    "```\n",
    "#EXTM3U\n",
    "#EXT-X-VERSION:6\n",
    "#EXT-X-INDEPENDENT-SEGMENTS\n",
    "#EXT-X-MEDIA:TYPE=AUDIO,GROUP-ID=\"group_audio\",NAME=\"audio_1\",DEFAULT=YES,LANGUAGE=\"en\",URI=\"1.m3u8\"\n",
    "#EXT-X-STREAM-INF:BANDWIDTH=1234200,AVERAGE-BANDWIDTH=1122000,RESOLUTION=1920x1080,FRAME-RATE=30.000,CODECS=\"avc1.4d4028,mp4a.40.2\",AUDIO=\"group_audio\"\n",
    "0.m3u8\n",
    "```\n",
    "\n",
    "No pause or seek function in video, see:\n",
    "* https://github.com/xbmc/xbmc/issues/18415\n",
    "* https://github.com/xbmc/inputstream.adaptive\n",
    "\n"
   ]
  },
  {
   "cell_type": "code",
   "execution_count": 23,
   "metadata": {},
   "outputs": [
    {
     "name": "stdout",
     "output_type": "stream",
     "text": [
      "200\n",
      "b'#EXTM3U\\n#EXT-X-VERSION:6\\n#EXT-X-INDEPENDENT-SEGMENTS\\n#EXT-X-MEDIA:TYPE=AUDIO,GROUP-ID=\"group_audio\",NAME=\"audio_1\",DEFAULT=YES,LANGUAGE=\"en\",URI=\"1.m3u8\"\\n#EXT-X-STREAM-INF:BANDWIDTH=1234200,AVERAGE-BANDWIDTH=1122000,RESOLUTION=1920x1080,FRAME-RATE=30.000,CODECS=\"avc1.4d4028,mp4a.40.2\",AUDIO=\"group_audio\"\\n0.m3u8'\n"
     ]
    }
   ],
   "source": [
    "res = requests.get(\"https://stitched.downdogapp.com/5/74/A3SR0137ELD_ib7eNWA7/master.m3u8\")\n",
    "print(res.status_code)\n",
    "print(res.content)"
   ]
  },
  {
   "cell_type": "code",
   "execution_count": null,
   "metadata": {},
   "outputs": [],
   "source": []
  },
  {
   "cell_type": "markdown",
   "metadata": {},
   "source": []
  }
 ],
 "metadata": {
  "interpreter": {
   "hash": "4e677c7bbd195ba3fb5c002cc7ddacbc3c7b8151fe073e2127101ef914a91f56"
  },
  "kernelspec": {
   "display_name": "Python 3.10.2 ('.venv': venv)",
   "language": "python",
   "name": "python3"
  },
  "language_info": {
   "codemirror_mode": {
    "name": "ipython",
    "version": 3
   },
   "file_extension": ".py",
   "mimetype": "text/x-python",
   "name": "python",
   "nbconvert_exporter": "python",
   "pygments_lexer": "ipython3",
   "version": "3.10.2"
  },
  "orig_nbformat": 4
 },
 "nbformat": 4,
 "nbformat_minor": 2
}
